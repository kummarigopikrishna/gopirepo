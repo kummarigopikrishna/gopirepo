{
 "cells": [
  {
   "cell_type": "markdown",
   "metadata": {
    "application/vnd.databricks.v1+cell": {
     "cellMetadata": {},
     "inputWidgets": {},
     "nuid": "31a4ebd2-393a-49ee-9549-a284d9ffcabb",
     "showTitle": false,
     "tableResultSettingsMap": {},
     "title": ""
    },
    "lines_to_next_cell": 0
   },
   "source": [
    "### **Notebook 3: Creating the Gold Layer**\n",
    "\n",
    "#### Steps:\n",
    "1. Read Silver Delta table.\n",
    "2. Aggregate Silver data for the Gold layer.\n",
    "3. Save the aggregated data as a Delta table and register it in Unity Catalog.\n",
    "\n",
    "#### Code:"
   ]
  },
  {
   "cell_type": "code",
   "execution_count": 0,
   "metadata": {
    "application/vnd.databricks.v1+cell": {
     "cellMetadata": {},
     "inputWidgets": {},
     "nuid": "3f76473e-1757-4ef2-b0fd-c2d58e924e2c",
     "showTitle": false,
     "tableResultSettingsMap": {},
     "title": ""
    }
   },
   "outputs": [],
   "source": [
    "# Step 1: Read Silver data\n",
    "silver_df = spark.read.format(\"delta\").load(\"/mnt/s3data/silver/retail_data\")\n",
    "\n",
    "# Step 2: Aggregate data for the Gold layer\n",
    "gold_df = silver_df.groupBy(\"year\", \"region\").sum(\"transaction_amount\").alias(\"total_sales\")\n",
    "\n",
    "# Step 3: Save Gold data as a Delta table\n",
    "gold_path = \"/mnt/s3data/gold/retail_data\"\n",
    "gold_df.write.format(\"delta\").mode(\"overwrite\").save(gold_path)\n",
    "\n",
    "# Step 4: Register the Gold table in Unity Catalog\n",
    "spark.sql(f\"\"\"\n",
    "CREATE TABLE IF NOT EXISTS retail_catalog.gold.retail_data\n",
    "USING DELTA\n",
    "LOCATION '{gold_path}'\n",
    "\"\"\")"
   ]
  },
  {
   "cell_type": "markdown",
   "metadata": {
    "application/vnd.databricks.v1+cell": {
     "cellMetadata": {},
     "inputWidgets": {},
     "nuid": "d66124f6-1874-4f60-aa83-06f36ddc79b9",
     "showTitle": false,
     "tableResultSettingsMap": {},
     "title": ""
    }
   },
   "source": [
    "---"
   ]
  }
 ],
 "metadata": {
  "application/vnd.databricks.v1+notebook": {
   "dashboards": [],
   "environmentMetadata": null,
   "language": "python",
   "notebookMetadata": {},
   "notebookName": "03_Aggregate_Gold_Layer",
   "widgets": {}
  },
  "jupytext": {
   "cell_metadata_filter": "-all",
   "main_language": "python",
   "notebook_metadata_filter": "-all"
  },
  "language_info": {
   "name": "python"
  }
 },
 "nbformat": 4,
 "nbformat_minor": 0
}
